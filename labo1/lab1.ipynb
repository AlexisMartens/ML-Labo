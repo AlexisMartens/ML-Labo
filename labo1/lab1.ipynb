{
 "cells": [
  {
   "cell_type": "markdown",
   "source": [
    "# Lab 1: Machine learning basics and linear regression"
   ],
   "metadata": {}
  },
  {
   "cell_type": "markdown",
   "source": [
    "## Machine learning"
   ],
   "metadata": {}
  },
  {
   "cell_type": "markdown",
   "source": [
    "Every single day we generate over 2.5 quintillion bytes of data in all possible forms such as photos, videos or social media posts. To make sense of these amounts of data we rely on complicated algorithms that can efficiently store and analyze it. For some types of data it is however impossible to design a fixed algorithm that performs a certain task. Recognizing the content of an image using only the raw pixel values for example is a very complicated problem for which it is almost impossible to define a fixed sequence of steps that performs this task. This is were machine learning comes in. **Machine learning (ML)** is the scientific field that make computers learn from data. Instead of designing an algorithm that directly performs a certain task, we design algorithms that learn to perform this task from example data points. Machine learning is thus complimentary to traditional algorithms, there is no point in using a machine learning technique if an (efficient) algorithm is available for a certain task (e.g. sorting). Machine learning really shines when we can not easily describe exactly *how* something should be done but instead we can give many examples of our desired functionality. It is for example hard to come up with a set of rules that classifies an e-mail as spam or not but not to collect hundreds of examples of spam and normal e-mail.\n",
    "\n",
    "Machine learning is a subfield of **Artificial Intelligence (AI)** which comprises much broader techniques to build machines that demonstrate some kind of intelligence. Techniques such as planning algorithms and symbolic reasoning are part of AI but not of ML. Machine learning has many intersections with other fields such as **robotics**, **signal processing**, **statistics**, **optimization**, **data mining** (extracting useful data from large databases) or **pattern recognition** (automatic discovery of regularities in data ).\n",
    "\n",
    "Machine learning practitioners use statistical **models** that capture information from a given set of **training data** (**train set**). The hope is that the models learn the underlying properties without being overly sensitive to noise in the data. After training, the models are then used to make predictions about new, unseen data (**test set**). This stage is called **inference** and a good model should be able to **generalize** to data that is slightly different than the data that was seen during training. Machine learning models will almost never generalize perfectly in the way we hope they will, the goal is thus to reach an acceptable score on some kind of **performance metric**."
   ],
   "metadata": {}
  },
  {
   "cell_type": "markdown",
   "source": [
    "## Types of machine learning problems"
   ],
   "metadata": {}
  },
  {
   "cell_type": "markdown",
   "source": [
    "There are many different types of machine learning and machine learning models and depending on the task, the data or on prior knowledge about the problem, some models are better suited than others. \n",
    "- **Supervised learning** techniques require a labeled training set, i.e. a collection of examples (X), each annotated with a **label** (Y). In the case of image recognition this would be the type of object that is seen in the picture or in the case of spam detection this would be a boolean flag, indicating whether the e-mail is spam or not. Both of these examples require the model to predict a class that the input belongs to (cat or dog, spam or not spam). These types of problems where we are predicting a class membership are called **classification**. If we instead are tasked with predicting a real number (e.g. what will the stock price be tomorrow, based on the current market condition), then we are dealing with a **regression** problem.\n",
    "\n",
    "- **Unsupervised learning** techniques do not need a labeled training set and consequently will not learn a mapping to some predefined output. Instead, unsupervised learning algorithms try to find regularities in the input space that are a sign of some underlying structure to the data. Examples of unsupervised learning are **density estimation** (finding out what inputs occur more often than others), **clustering** (grouping similar data points into **clusters**) and **dimensionality reduction** (compressing the information into a lower dimensional representation that removes redundant parameters).\n",
    "\n",
    "- **Reinforcement learning** deals with problems where the model needs to interact directly with the environment. Examples could be a robot navigating within a building or a game AI playing against a human player in a video game. The task of the model (**agent**) is to come up with a sequence of actions (**policy**) that it needs to execute within the environment to end up in a desired state. The agent receives feedback (**reward**) after some actions and needs to update its policy to favor actions that result in higher rewards. The difficulty of these types of problems is that the reward is often **sparse** i.e. the agent only receives a reward at the end of a sequence (e.g. when the game is over). It then needs to figure out exactly which combination of actions have resulted in this reward and how this can be improved in the future."
   ],
   "metadata": {}
  },
  {
   "cell_type": "markdown",
   "source": [
    "## The ML workflow"
   ],
   "metadata": {}
  },
  {
   "cell_type": "markdown",
   "source": [
    "![](images/workflow.png),<br/>Source: https://towardsdatascience.com/workflow-of-a-machine-learning-project-ec1dba419b94"
   ],
   "metadata": {}
  },
  {
   "cell_type": "markdown",
   "source": [
    "The development of a machine learning model typically looks like the figure above. It all starts with collecting a dataset. This dataset is then split into a **Test set** and a **Train set**. The model is trained on the train set and after training, its generalization performance is evaluated on the hold-out test set. This is repeated until a good model configuration is found. The model is then released into production to make prediction for real users. Depending on the data and the problem there will be additional steps such as **Data preprocessing**,  **Data cleaning**, **Feature extraction**, **Feature selection**, ..."
   ],
   "metadata": {}
  },
  {
   "cell_type": "markdown",
   "source": [
    "## The task"
   ],
   "metadata": {}
  },
  {
   "cell_type": "markdown",
   "source": [
    "In this session we will predict the price of a house based on information such as the location and the number of rooms. This dataset (Boston Housing Dataset) is a well known public dataset that is often used in introductory machine learning courses. \n",
    "<div style=\"float:left\">\n",
    "        <img src=\"images/forsale.jpg\" width=\"550\" />\n",
    "</div>"
   ],
   "metadata": {}
  },
  {
   "cell_type": "markdown",
   "source": [
    "We will now build the the entire machine learning pipeline with this dataset and a very simple regression model: Linear regression. In all sessions we will intensively use different typical python data science tools such as:\n",
    "- numpy\n",
    "- pandas\n",
    "- matplotlib (seaborn)\n",
    "- sklearn"
   ],
   "metadata": {}
  },
  {
   "cell_type": "code",
   "execution_count": 17,
   "source": [
    "import numpy as np\n",
    "import matplotlib.pyplot as plt \n",
    "\n",
    "import pandas as pd  \n",
    "import seaborn as sns \n",
    "from matplotlib import rcParams\n",
    "\n",
    "# figure size in inches\n",
    "rcParams['figure.figsize'] = 20,16\n",
    "\n",
    "%matplotlib inline"
   ],
   "outputs": [],
   "metadata": {}
  },
  {
   "cell_type": "markdown",
   "source": [
    "## The data"
   ],
   "metadata": {}
  },
  {
   "cell_type": "markdown",
   "source": [
    "Because this is such a common dataset, the sklearn library has a utility method to load it."
   ],
   "metadata": {}
  },
  {
   "cell_type": "code",
   "execution_count": 18,
   "source": [
    "from sklearn.datasets import load_boston\n",
    "boston_dataset = load_boston()"
   ],
   "outputs": [],
   "metadata": {}
  },
  {
   "cell_type": "markdown",
   "source": [
    "The dataset is now loaded in a dictionary.\n",
    "<font color='red'>Task: explore the dataset object: print the keys of this dictionary and a few entries for each key</font>"
   ],
   "metadata": {}
  },
  {
   "cell_type": "code",
   "execution_count": 19,
   "source": [
    "type(boston_dataset)"
   ],
   "outputs": [
    {
     "output_type": "execute_result",
     "data": {
      "text/plain": [
       "sklearn.utils.Bunch"
      ]
     },
     "metadata": {},
     "execution_count": 19
    }
   ],
   "metadata": {}
  },
  {
   "cell_type": "code",
   "execution_count": 20,
   "source": [
    "boston_dataset.data"
   ],
   "outputs": [
    {
     "output_type": "execute_result",
     "data": {
      "text/plain": [
       "array([[6.3200e-03, 1.8000e+01, 2.3100e+00, ..., 1.5300e+01, 3.9690e+02,\n",
       "        4.9800e+00],\n",
       "       [2.7310e-02, 0.0000e+00, 7.0700e+00, ..., 1.7800e+01, 3.9690e+02,\n",
       "        9.1400e+00],\n",
       "       [2.7290e-02, 0.0000e+00, 7.0700e+00, ..., 1.7800e+01, 3.9283e+02,\n",
       "        4.0300e+00],\n",
       "       ...,\n",
       "       [6.0760e-02, 0.0000e+00, 1.1930e+01, ..., 2.1000e+01, 3.9690e+02,\n",
       "        5.6400e+00],\n",
       "       [1.0959e-01, 0.0000e+00, 1.1930e+01, ..., 2.1000e+01, 3.9345e+02,\n",
       "        6.4800e+00],\n",
       "       [4.7410e-02, 0.0000e+00, 1.1930e+01, ..., 2.1000e+01, 3.9690e+02,\n",
       "        7.8800e+00]])"
      ]
     },
     "metadata": {},
     "execution_count": 20
    }
   ],
   "metadata": {}
  },
  {
   "cell_type": "code",
   "execution_count": 21,
   "source": [
    "#boston_dataset.values()"
   ],
   "outputs": [],
   "metadata": {}
  },
  {
   "cell_type": "markdown",
   "source": [
    "The following observations can be made:\n",
    "- There are 506 datapoints (houses)\n",
    "- For each of these we have 13 **features**. These are the characteristics that we can use to make our predictions. All the features are floating point numbers.\n",
    "- For each of these we have a single number. This is our target, the **ground-truth**."
   ],
   "metadata": {}
  },
  {
   "cell_type": "markdown",
   "source": [
    "## Exploratory Data Analysis (EDA)"
   ],
   "metadata": {}
  },
  {
   "cell_type": "markdown",
   "source": [
    "<font color='red'>Task: Transform this into a pandas dataframe for easier processing. The dataframe has as columns the different features, and as rows the data for each house. Add the target as an additional column. Description and file name are no longer needed. Use the head() and describe() methods to display some information about the data.</font>"
   ],
   "metadata": {}
  },
  {
   "cell_type": "code",
   "execution_count": 22,
   "source": [
    "import pandas as pd\n",
    "boston = pd.DataFrame(boston_dataset.data, columns=boston_dataset.feature_names)\n",
    "boston.head()"
   ],
   "outputs": [
    {
     "output_type": "execute_result",
     "data": {
      "text/html": [
       "<div>\n",
       "<style scoped>\n",
       "    .dataframe tbody tr th:only-of-type {\n",
       "        vertical-align: middle;\n",
       "    }\n",
       "\n",
       "    .dataframe tbody tr th {\n",
       "        vertical-align: top;\n",
       "    }\n",
       "\n",
       "    .dataframe thead th {\n",
       "        text-align: right;\n",
       "    }\n",
       "</style>\n",
       "<table border=\"1\" class=\"dataframe\">\n",
       "  <thead>\n",
       "    <tr style=\"text-align: right;\">\n",
       "      <th></th>\n",
       "      <th>CRIM</th>\n",
       "      <th>ZN</th>\n",
       "      <th>INDUS</th>\n",
       "      <th>CHAS</th>\n",
       "      <th>NOX</th>\n",
       "      <th>RM</th>\n",
       "      <th>AGE</th>\n",
       "      <th>DIS</th>\n",
       "      <th>RAD</th>\n",
       "      <th>TAX</th>\n",
       "      <th>PTRATIO</th>\n",
       "      <th>B</th>\n",
       "      <th>LSTAT</th>\n",
       "    </tr>\n",
       "  </thead>\n",
       "  <tbody>\n",
       "    <tr>\n",
       "      <th>0</th>\n",
       "      <td>0.00632</td>\n",
       "      <td>18.0</td>\n",
       "      <td>2.31</td>\n",
       "      <td>0.0</td>\n",
       "      <td>0.538</td>\n",
       "      <td>6.575</td>\n",
       "      <td>65.2</td>\n",
       "      <td>4.0900</td>\n",
       "      <td>1.0</td>\n",
       "      <td>296.0</td>\n",
       "      <td>15.3</td>\n",
       "      <td>396.90</td>\n",
       "      <td>4.98</td>\n",
       "    </tr>\n",
       "    <tr>\n",
       "      <th>1</th>\n",
       "      <td>0.02731</td>\n",
       "      <td>0.0</td>\n",
       "      <td>7.07</td>\n",
       "      <td>0.0</td>\n",
       "      <td>0.469</td>\n",
       "      <td>6.421</td>\n",
       "      <td>78.9</td>\n",
       "      <td>4.9671</td>\n",
       "      <td>2.0</td>\n",
       "      <td>242.0</td>\n",
       "      <td>17.8</td>\n",
       "      <td>396.90</td>\n",
       "      <td>9.14</td>\n",
       "    </tr>\n",
       "    <tr>\n",
       "      <th>2</th>\n",
       "      <td>0.02729</td>\n",
       "      <td>0.0</td>\n",
       "      <td>7.07</td>\n",
       "      <td>0.0</td>\n",
       "      <td>0.469</td>\n",
       "      <td>7.185</td>\n",
       "      <td>61.1</td>\n",
       "      <td>4.9671</td>\n",
       "      <td>2.0</td>\n",
       "      <td>242.0</td>\n",
       "      <td>17.8</td>\n",
       "      <td>392.83</td>\n",
       "      <td>4.03</td>\n",
       "    </tr>\n",
       "    <tr>\n",
       "      <th>3</th>\n",
       "      <td>0.03237</td>\n",
       "      <td>0.0</td>\n",
       "      <td>2.18</td>\n",
       "      <td>0.0</td>\n",
       "      <td>0.458</td>\n",
       "      <td>6.998</td>\n",
       "      <td>45.8</td>\n",
       "      <td>6.0622</td>\n",
       "      <td>3.0</td>\n",
       "      <td>222.0</td>\n",
       "      <td>18.7</td>\n",
       "      <td>394.63</td>\n",
       "      <td>2.94</td>\n",
       "    </tr>\n",
       "    <tr>\n",
       "      <th>4</th>\n",
       "      <td>0.06905</td>\n",
       "      <td>0.0</td>\n",
       "      <td>2.18</td>\n",
       "      <td>0.0</td>\n",
       "      <td>0.458</td>\n",
       "      <td>7.147</td>\n",
       "      <td>54.2</td>\n",
       "      <td>6.0622</td>\n",
       "      <td>3.0</td>\n",
       "      <td>222.0</td>\n",
       "      <td>18.7</td>\n",
       "      <td>396.90</td>\n",
       "      <td>5.33</td>\n",
       "    </tr>\n",
       "  </tbody>\n",
       "</table>\n",
       "</div>"
      ],
      "text/plain": [
       "      CRIM    ZN  INDUS  CHAS    NOX     RM   AGE     DIS  RAD    TAX  \\\n",
       "0  0.00632  18.0   2.31   0.0  0.538  6.575  65.2  4.0900  1.0  296.0   \n",
       "1  0.02731   0.0   7.07   0.0  0.469  6.421  78.9  4.9671  2.0  242.0   \n",
       "2  0.02729   0.0   7.07   0.0  0.469  7.185  61.1  4.9671  2.0  242.0   \n",
       "3  0.03237   0.0   2.18   0.0  0.458  6.998  45.8  6.0622  3.0  222.0   \n",
       "4  0.06905   0.0   2.18   0.0  0.458  7.147  54.2  6.0622  3.0  222.0   \n",
       "\n",
       "   PTRATIO       B  LSTAT  \n",
       "0     15.3  396.90   4.98  \n",
       "1     17.8  396.90   9.14  \n",
       "2     17.8  392.83   4.03  \n",
       "3     18.7  394.63   2.94  \n",
       "4     18.7  396.90   5.33  "
      ]
     },
     "metadata": {},
     "execution_count": 22
    }
   ],
   "metadata": {}
  },
  {
   "cell_type": "code",
   "execution_count": 23,
   "source": [
    "boston.describe()"
   ],
   "outputs": [
    {
     "output_type": "execute_result",
     "data": {
      "text/html": [
       "<div>\n",
       "<style scoped>\n",
       "    .dataframe tbody tr th:only-of-type {\n",
       "        vertical-align: middle;\n",
       "    }\n",
       "\n",
       "    .dataframe tbody tr th {\n",
       "        vertical-align: top;\n",
       "    }\n",
       "\n",
       "    .dataframe thead th {\n",
       "        text-align: right;\n",
       "    }\n",
       "</style>\n",
       "<table border=\"1\" class=\"dataframe\">\n",
       "  <thead>\n",
       "    <tr style=\"text-align: right;\">\n",
       "      <th></th>\n",
       "      <th>CRIM</th>\n",
       "      <th>ZN</th>\n",
       "      <th>INDUS</th>\n",
       "      <th>CHAS</th>\n",
       "      <th>NOX</th>\n",
       "      <th>RM</th>\n",
       "      <th>AGE</th>\n",
       "      <th>DIS</th>\n",
       "      <th>RAD</th>\n",
       "      <th>TAX</th>\n",
       "      <th>PTRATIO</th>\n",
       "      <th>B</th>\n",
       "      <th>LSTAT</th>\n",
       "    </tr>\n",
       "  </thead>\n",
       "  <tbody>\n",
       "    <tr>\n",
       "      <th>count</th>\n",
       "      <td>506.000000</td>\n",
       "      <td>506.000000</td>\n",
       "      <td>506.000000</td>\n",
       "      <td>506.000000</td>\n",
       "      <td>506.000000</td>\n",
       "      <td>506.000000</td>\n",
       "      <td>506.000000</td>\n",
       "      <td>506.000000</td>\n",
       "      <td>506.000000</td>\n",
       "      <td>506.000000</td>\n",
       "      <td>506.000000</td>\n",
       "      <td>506.000000</td>\n",
       "      <td>506.000000</td>\n",
       "    </tr>\n",
       "    <tr>\n",
       "      <th>mean</th>\n",
       "      <td>3.613524</td>\n",
       "      <td>11.363636</td>\n",
       "      <td>11.136779</td>\n",
       "      <td>0.069170</td>\n",
       "      <td>0.554695</td>\n",
       "      <td>6.284634</td>\n",
       "      <td>68.574901</td>\n",
       "      <td>3.795043</td>\n",
       "      <td>9.549407</td>\n",
       "      <td>408.237154</td>\n",
       "      <td>18.455534</td>\n",
       "      <td>356.674032</td>\n",
       "      <td>12.653063</td>\n",
       "    </tr>\n",
       "    <tr>\n",
       "      <th>std</th>\n",
       "      <td>8.601545</td>\n",
       "      <td>23.322453</td>\n",
       "      <td>6.860353</td>\n",
       "      <td>0.253994</td>\n",
       "      <td>0.115878</td>\n",
       "      <td>0.702617</td>\n",
       "      <td>28.148861</td>\n",
       "      <td>2.105710</td>\n",
       "      <td>8.707259</td>\n",
       "      <td>168.537116</td>\n",
       "      <td>2.164946</td>\n",
       "      <td>91.294864</td>\n",
       "      <td>7.141062</td>\n",
       "    </tr>\n",
       "    <tr>\n",
       "      <th>min</th>\n",
       "      <td>0.006320</td>\n",
       "      <td>0.000000</td>\n",
       "      <td>0.460000</td>\n",
       "      <td>0.000000</td>\n",
       "      <td>0.385000</td>\n",
       "      <td>3.561000</td>\n",
       "      <td>2.900000</td>\n",
       "      <td>1.129600</td>\n",
       "      <td>1.000000</td>\n",
       "      <td>187.000000</td>\n",
       "      <td>12.600000</td>\n",
       "      <td>0.320000</td>\n",
       "      <td>1.730000</td>\n",
       "    </tr>\n",
       "    <tr>\n",
       "      <th>25%</th>\n",
       "      <td>0.082045</td>\n",
       "      <td>0.000000</td>\n",
       "      <td>5.190000</td>\n",
       "      <td>0.000000</td>\n",
       "      <td>0.449000</td>\n",
       "      <td>5.885500</td>\n",
       "      <td>45.025000</td>\n",
       "      <td>2.100175</td>\n",
       "      <td>4.000000</td>\n",
       "      <td>279.000000</td>\n",
       "      <td>17.400000</td>\n",
       "      <td>375.377500</td>\n",
       "      <td>6.950000</td>\n",
       "    </tr>\n",
       "    <tr>\n",
       "      <th>50%</th>\n",
       "      <td>0.256510</td>\n",
       "      <td>0.000000</td>\n",
       "      <td>9.690000</td>\n",
       "      <td>0.000000</td>\n",
       "      <td>0.538000</td>\n",
       "      <td>6.208500</td>\n",
       "      <td>77.500000</td>\n",
       "      <td>3.207450</td>\n",
       "      <td>5.000000</td>\n",
       "      <td>330.000000</td>\n",
       "      <td>19.050000</td>\n",
       "      <td>391.440000</td>\n",
       "      <td>11.360000</td>\n",
       "    </tr>\n",
       "    <tr>\n",
       "      <th>75%</th>\n",
       "      <td>3.677083</td>\n",
       "      <td>12.500000</td>\n",
       "      <td>18.100000</td>\n",
       "      <td>0.000000</td>\n",
       "      <td>0.624000</td>\n",
       "      <td>6.623500</td>\n",
       "      <td>94.075000</td>\n",
       "      <td>5.188425</td>\n",
       "      <td>24.000000</td>\n",
       "      <td>666.000000</td>\n",
       "      <td>20.200000</td>\n",
       "      <td>396.225000</td>\n",
       "      <td>16.955000</td>\n",
       "    </tr>\n",
       "    <tr>\n",
       "      <th>max</th>\n",
       "      <td>88.976200</td>\n",
       "      <td>100.000000</td>\n",
       "      <td>27.740000</td>\n",
       "      <td>1.000000</td>\n",
       "      <td>0.871000</td>\n",
       "      <td>8.780000</td>\n",
       "      <td>100.000000</td>\n",
       "      <td>12.126500</td>\n",
       "      <td>24.000000</td>\n",
       "      <td>711.000000</td>\n",
       "      <td>22.000000</td>\n",
       "      <td>396.900000</td>\n",
       "      <td>37.970000</td>\n",
       "    </tr>\n",
       "  </tbody>\n",
       "</table>\n",
       "</div>"
      ],
      "text/plain": [
       "             CRIM          ZN       INDUS        CHAS         NOX          RM  \\\n",
       "count  506.000000  506.000000  506.000000  506.000000  506.000000  506.000000   \n",
       "mean     3.613524   11.363636   11.136779    0.069170    0.554695    6.284634   \n",
       "std      8.601545   23.322453    6.860353    0.253994    0.115878    0.702617   \n",
       "min      0.006320    0.000000    0.460000    0.000000    0.385000    3.561000   \n",
       "25%      0.082045    0.000000    5.190000    0.000000    0.449000    5.885500   \n",
       "50%      0.256510    0.000000    9.690000    0.000000    0.538000    6.208500   \n",
       "75%      3.677083   12.500000   18.100000    0.000000    0.624000    6.623500   \n",
       "max     88.976200  100.000000   27.740000    1.000000    0.871000    8.780000   \n",
       "\n",
       "              AGE         DIS         RAD         TAX     PTRATIO           B  \\\n",
       "count  506.000000  506.000000  506.000000  506.000000  506.000000  506.000000   \n",
       "mean    68.574901    3.795043    9.549407  408.237154   18.455534  356.674032   \n",
       "std     28.148861    2.105710    8.707259  168.537116    2.164946   91.294864   \n",
       "min      2.900000    1.129600    1.000000  187.000000   12.600000    0.320000   \n",
       "25%     45.025000    2.100175    4.000000  279.000000   17.400000  375.377500   \n",
       "50%     77.500000    3.207450    5.000000  330.000000   19.050000  391.440000   \n",
       "75%     94.075000    5.188425   24.000000  666.000000   20.200000  396.225000   \n",
       "max    100.000000   12.126500   24.000000  711.000000   22.000000  396.900000   \n",
       "\n",
       "            LSTAT  \n",
       "count  506.000000  \n",
       "mean    12.653063  \n",
       "std      7.141062  \n",
       "min      1.730000  \n",
       "25%      6.950000  \n",
       "50%     11.360000  \n",
       "75%     16.955000  \n",
       "max     37.970000  "
      ]
     },
     "metadata": {},
     "execution_count": 23
    }
   ],
   "metadata": {}
  },
  {
   "cell_type": "markdown",
   "source": [
    "<font color='red'>Task: Visualize the distribution of the target variable</font>"
   ],
   "metadata": {}
  },
  {
   "cell_type": "code",
   "execution_count": 24,
   "source": [
    "#plt.figure(figsize=(15,14))\n",
    "sns.scatterplot(x=boston['ZN'], y=boston['AGE'])\n",
    "#boston['AGE']"
   ],
   "outputs": [
    {
     "output_type": "execute_result",
     "data": {
      "text/plain": [
       "<AxesSubplot:xlabel='ZN', ylabel='AGE'>"
      ]
     },
     "metadata": {},
     "execution_count": 24
    },
    {
     "output_type": "display_data",
     "data": {
      "image/png": "[encoded data removed]",
      "text/plain": [
       "<Figure size 432x288 with 1 Axes>"
      ]
     },
     "metadata": {
      "needs_background": "light"
     }
    }
   ],
   "metadata": {}
  },
  {
   "cell_type": "code",
   "execution_count": 25,
   "source": [
    "..."
   ],
   "outputs": [
    {
     "output_type": "execute_result",
     "data": {
      "text/plain": [
       "Ellipsis"
      ]
     },
     "metadata": {},
     "execution_count": 25
    }
   ],
   "metadata": {}
  },
  {
   "cell_type": "markdown",
   "source": [
    "<font color='red'>Task: Show the correlation matrix between the different features</font>"
   ],
   "metadata": {}
  },
  {
   "cell_type": "code",
   "execution_count": 26,
   "source": [
    "# sns.heatmap"
   ],
   "outputs": [],
   "metadata": {}
  },
  {
   "cell_type": "markdown",
   "source": [
    "<font color='red'>Task: What is the mathematical meaning of the number in each cell. What are the most interesting and least interesting features ? Do these make sense ?</font>"
   ],
   "metadata": {}
  },
  {
   "cell_type": "markdown",
   "source": [
    "..."
   ],
   "metadata": {}
  },
  {
   "cell_type": "markdown",
   "source": [
    "<font color='red'>Task: Plot two features (not the target) as a function of each other. Do this for two features with a very high  (positive) correlation, a very low (negative) correlation and a correlation around 0.</font>"
   ],
   "metadata": {}
  },
  {
   "cell_type": "code",
   "execution_count": 27,
   "source": [
    "..."
   ],
   "outputs": [
    {
     "output_type": "execute_result",
     "data": {
      "text/plain": [
       "Ellipsis"
      ]
     },
     "metadata": {},
     "execution_count": 27
    }
   ],
   "metadata": {}
  },
  {
   "cell_type": "code",
   "execution_count": 28,
   "source": [
    "..."
   ],
   "outputs": [
    {
     "output_type": "execute_result",
     "data": {
      "text/plain": [
       "Ellipsis"
      ]
     },
     "metadata": {},
     "execution_count": 28
    }
   ],
   "metadata": {}
  },
  {
   "cell_type": "code",
   "execution_count": 29,
   "source": [
    "..."
   ],
   "outputs": [
    {
     "output_type": "execute_result",
     "data": {
      "text/plain": [
       "Ellipsis"
      ]
     },
     "metadata": {},
     "execution_count": 29
    }
   ],
   "metadata": {}
  },
  {
   "cell_type": "code",
   "execution_count": 30,
   "source": [
    "boston.columns.array"
   ],
   "outputs": [
    {
     "output_type": "execute_result",
     "data": {
      "text/plain": [
       "<PandasArray>\n",
       "[   'CRIM',      'ZN',   'INDUS',    'CHAS',     'NOX',      'RM',     'AGE',\n",
       "     'DIS',     'RAD',     'TAX', 'PTRATIO',       'B',   'LSTAT']\n",
       "Length: 13, dtype: object"
      ]
     },
     "metadata": {},
     "execution_count": 30
    }
   ],
   "metadata": {}
  },
  {
   "cell_type": "markdown",
   "source": [
    "<font color='red'>Task: Plot the target as a function of each feature.</font>"
   ],
   "metadata": {}
  },
  {
   "cell_type": "code",
   "execution_count": 34,
   "source": [
    "# from matplotlib.backends.backend_pdf import PdfPages\n",
    "# with PdfPages('count.pdf') as pdf_pages:\n",
    "#     for i in boston.columns.array:\n",
    "#         for j in boston.columns.array:\n",
    "#             if i is not j and i < j:\n",
    "#                 figu = plt.figure(figsize=(4,3))\n",
    "#                 sns.scatterplot(x=boston[i], y=boston[j])\n",
    "#                 pdf_pages.savefig(figu)\n",
    "# print(\"fiets\")\n",
    "# boston.head\n",
    "    "
   ],
   "outputs": [],
   "metadata": {}
  },
  {
   "cell_type": "markdown",
   "source": [
    "<font color='red'>Task: What are the most interesting features ?</font>"
   ],
   "metadata": {}
  },
  {
   "cell_type": "markdown",
   "source": [
    "..."
   ],
   "metadata": {}
  },
  {
   "cell_type": "markdown",
   "source": [
    "## Train - Test - Split"
   ],
   "metadata": {}
  },
  {
   "cell_type": "markdown",
   "source": [
    "As explained in the introduction, the goal of machine learning is to build models on train data that are able to make predictions on unseen test data. So we split our data into a **trainset** (80%) and a **test set** (20%). Based on the correlation matrix and the scatterplots, we select \"LSTAT\" and \"RM\" as the initial features of our model."
   ],
   "metadata": {}
  },
  {
   "cell_type": "code",
   "execution_count": 32,
   "source": [
    "from sklearn.model_selection import train_test_split\n",
    "\n",
    "X = pd.concat((boston['LSTAT'], boston['RM']), axis=1)\n",
    "Y = boston['TARGET']\n",
    "\n",
    "X_train, X_test, Y_train, Y_test = train_test_split(X, Y, test_size = 0.2)\n",
    "print(X_train.shape)\n",
    "print(Y_train.shape)\n",
    "\n",
    "print(X_test.shape)\n",
    "print(Y_test.shape)"
   ],
   "outputs": [
    {
     "output_type": "error",
     "ename": "KeyError",
     "evalue": "'TARGET'",
     "traceback": [
      "\u001b[0;31m---------------------------------------------------------------------------\u001b[0m",
      "\u001b[0;31mKeyError\u001b[0m                                  Traceback (most recent call last)",
      "\u001b[0;32m/opt/conda/lib/python3.9/site-packages/pandas/core/indexes/base.py\u001b[0m in \u001b[0;36mget_loc\u001b[0;34m(self, key, method, tolerance)\u001b[0m\n\u001b[1;32m   3360\u001b[0m             \u001b[0;32mtry\u001b[0m\u001b[0;34m:\u001b[0m\u001b[0;34m\u001b[0m\u001b[0;34m\u001b[0m\u001b[0m\n\u001b[0;32m-> 3361\u001b[0;31m                 \u001b[0;32mreturn\u001b[0m \u001b[0mself\u001b[0m\u001b[0;34m.\u001b[0m\u001b[0m_engine\u001b[0m\u001b[0;34m.\u001b[0m\u001b[0mget_loc\u001b[0m\u001b[0;34m(\u001b[0m\u001b[0mcasted_key\u001b[0m\u001b[0;34m)\u001b[0m\u001b[0;34m\u001b[0m\u001b[0;34m\u001b[0m\u001b[0m\n\u001b[0m\u001b[1;32m   3362\u001b[0m             \u001b[0;32mexcept\u001b[0m \u001b[0mKeyError\u001b[0m \u001b[0;32mas\u001b[0m \u001b[0merr\u001b[0m\u001b[0;34m:\u001b[0m\u001b[0;34m\u001b[0m\u001b[0;34m\u001b[0m\u001b[0m\n",
      "\u001b[0;32m/opt/conda/lib/python3.9/site-packages/pandas/_libs/index.pyx\u001b[0m in \u001b[0;36mpandas._libs.index.IndexEngine.get_loc\u001b[0;34m()\u001b[0m\n",
      "\u001b[0;32m/opt/conda/lib/python3.9/site-packages/pandas/_libs/index.pyx\u001b[0m in \u001b[0;36mpandas._libs.index.IndexEngine.get_loc\u001b[0;34m()\u001b[0m\n",
      "\u001b[0;32mpandas/_libs/hashtable_class_helper.pxi\u001b[0m in \u001b[0;36mpandas._libs.hashtable.PyObjectHashTable.get_item\u001b[0;34m()\u001b[0m\n",
      "\u001b[0;32mpandas/_libs/hashtable_class_helper.pxi\u001b[0m in \u001b[0;36mpandas._libs.hashtable.PyObjectHashTable.get_item\u001b[0;34m()\u001b[0m\n",
      "\u001b[0;31mKeyError\u001b[0m: 'TARGET'",
      "\nThe above exception was the direct cause of the following exception:\n",
      "\u001b[0;31mKeyError\u001b[0m                                  Traceback (most recent call last)",
      "\u001b[0;32m/tmp/ipykernel_13684/529276503.py\u001b[0m in \u001b[0;36m<module>\u001b[0;34m\u001b[0m\n\u001b[1;32m      2\u001b[0m \u001b[0;34m\u001b[0m\u001b[0m\n\u001b[1;32m      3\u001b[0m \u001b[0mX\u001b[0m \u001b[0;34m=\u001b[0m \u001b[0mpd\u001b[0m\u001b[0;34m.\u001b[0m\u001b[0mconcat\u001b[0m\u001b[0;34m(\u001b[0m\u001b[0;34m(\u001b[0m\u001b[0mboston\u001b[0m\u001b[0;34m[\u001b[0m\u001b[0;34m'LSTAT'\u001b[0m\u001b[0;34m]\u001b[0m\u001b[0;34m,\u001b[0m \u001b[0mboston\u001b[0m\u001b[0;34m[\u001b[0m\u001b[0;34m'RM'\u001b[0m\u001b[0;34m]\u001b[0m\u001b[0;34m)\u001b[0m\u001b[0;34m,\u001b[0m \u001b[0maxis\u001b[0m\u001b[0;34m=\u001b[0m\u001b[0;36m1\u001b[0m\u001b[0;34m)\u001b[0m\u001b[0;34m\u001b[0m\u001b[0;34m\u001b[0m\u001b[0m\n\u001b[0;32m----> 4\u001b[0;31m \u001b[0mY\u001b[0m \u001b[0;34m=\u001b[0m \u001b[0mboston\u001b[0m\u001b[0;34m[\u001b[0m\u001b[0;34m'TARGET'\u001b[0m\u001b[0;34m]\u001b[0m\u001b[0;34m\u001b[0m\u001b[0;34m\u001b[0m\u001b[0m\n\u001b[0m\u001b[1;32m      5\u001b[0m \u001b[0;34m\u001b[0m\u001b[0m\n\u001b[1;32m      6\u001b[0m \u001b[0mX_train\u001b[0m\u001b[0;34m,\u001b[0m \u001b[0mX_test\u001b[0m\u001b[0;34m,\u001b[0m \u001b[0mY_train\u001b[0m\u001b[0;34m,\u001b[0m \u001b[0mY_test\u001b[0m \u001b[0;34m=\u001b[0m \u001b[0mtrain_test_split\u001b[0m\u001b[0;34m(\u001b[0m\u001b[0mX\u001b[0m\u001b[0;34m,\u001b[0m \u001b[0mY\u001b[0m\u001b[0;34m,\u001b[0m \u001b[0mtest_size\u001b[0m \u001b[0;34m=\u001b[0m \u001b[0;36m0.2\u001b[0m\u001b[0;34m)\u001b[0m\u001b[0;34m\u001b[0m\u001b[0;34m\u001b[0m\u001b[0m\n",
      "\u001b[0;32m/opt/conda/lib/python3.9/site-packages/pandas/core/frame.py\u001b[0m in \u001b[0;36m__getitem__\u001b[0;34m(self, key)\u001b[0m\n\u001b[1;32m   3456\u001b[0m             \u001b[0;32mif\u001b[0m \u001b[0mself\u001b[0m\u001b[0;34m.\u001b[0m\u001b[0mcolumns\u001b[0m\u001b[0;34m.\u001b[0m\u001b[0mnlevels\u001b[0m \u001b[0;34m>\u001b[0m \u001b[0;36m1\u001b[0m\u001b[0;34m:\u001b[0m\u001b[0;34m\u001b[0m\u001b[0;34m\u001b[0m\u001b[0m\n\u001b[1;32m   3457\u001b[0m                 \u001b[0;32mreturn\u001b[0m \u001b[0mself\u001b[0m\u001b[0;34m.\u001b[0m\u001b[0m_getitem_multilevel\u001b[0m\u001b[0;34m(\u001b[0m\u001b[0mkey\u001b[0m\u001b[0;34m)\u001b[0m\u001b[0;34m\u001b[0m\u001b[0;34m\u001b[0m\u001b[0m\n\u001b[0;32m-> 3458\u001b[0;31m             \u001b[0mindexer\u001b[0m \u001b[0;34m=\u001b[0m \u001b[0mself\u001b[0m\u001b[0;34m.\u001b[0m\u001b[0mcolumns\u001b[0m\u001b[0;34m.\u001b[0m\u001b[0mget_loc\u001b[0m\u001b[0;34m(\u001b[0m\u001b[0mkey\u001b[0m\u001b[0;34m)\u001b[0m\u001b[0;34m\u001b[0m\u001b[0;34m\u001b[0m\u001b[0m\n\u001b[0m\u001b[1;32m   3459\u001b[0m             \u001b[0;32mif\u001b[0m \u001b[0mis_integer\u001b[0m\u001b[0;34m(\u001b[0m\u001b[0mindexer\u001b[0m\u001b[0;34m)\u001b[0m\u001b[0;34m:\u001b[0m\u001b[0;34m\u001b[0m\u001b[0;34m\u001b[0m\u001b[0m\n\u001b[1;32m   3460\u001b[0m                 \u001b[0mindexer\u001b[0m \u001b[0;34m=\u001b[0m \u001b[0;34m[\u001b[0m\u001b[0mindexer\u001b[0m\u001b[0;34m]\u001b[0m\u001b[0;34m\u001b[0m\u001b[0;34m\u001b[0m\u001b[0m\n",
      "\u001b[0;32m/opt/conda/lib/python3.9/site-packages/pandas/core/indexes/base.py\u001b[0m in \u001b[0;36mget_loc\u001b[0;34m(self, key, method, tolerance)\u001b[0m\n\u001b[1;32m   3361\u001b[0m                 \u001b[0;32mreturn\u001b[0m \u001b[0mself\u001b[0m\u001b[0;34m.\u001b[0m\u001b[0m_engine\u001b[0m\u001b[0;34m.\u001b[0m\u001b[0mget_loc\u001b[0m\u001b[0;34m(\u001b[0m\u001b[0mcasted_key\u001b[0m\u001b[0;34m)\u001b[0m\u001b[0;34m\u001b[0m\u001b[0;34m\u001b[0m\u001b[0m\n\u001b[1;32m   3362\u001b[0m             \u001b[0;32mexcept\u001b[0m \u001b[0mKeyError\u001b[0m \u001b[0;32mas\u001b[0m \u001b[0merr\u001b[0m\u001b[0;34m:\u001b[0m\u001b[0;34m\u001b[0m\u001b[0;34m\u001b[0m\u001b[0m\n\u001b[0;32m-> 3363\u001b[0;31m                 \u001b[0;32mraise\u001b[0m \u001b[0mKeyError\u001b[0m\u001b[0;34m(\u001b[0m\u001b[0mkey\u001b[0m\u001b[0;34m)\u001b[0m \u001b[0;32mfrom\u001b[0m \u001b[0merr\u001b[0m\u001b[0;34m\u001b[0m\u001b[0;34m\u001b[0m\u001b[0m\n\u001b[0m\u001b[1;32m   3364\u001b[0m \u001b[0;34m\u001b[0m\u001b[0m\n\u001b[1;32m   3365\u001b[0m         \u001b[0;32mif\u001b[0m \u001b[0mis_scalar\u001b[0m\u001b[0;34m(\u001b[0m\u001b[0mkey\u001b[0m\u001b[0;34m)\u001b[0m \u001b[0;32mand\u001b[0m \u001b[0misna\u001b[0m\u001b[0;34m(\u001b[0m\u001b[0mkey\u001b[0m\u001b[0;34m)\u001b[0m \u001b[0;32mand\u001b[0m \u001b[0;32mnot\u001b[0m \u001b[0mself\u001b[0m\u001b[0;34m.\u001b[0m\u001b[0mhasnans\u001b[0m\u001b[0;34m:\u001b[0m\u001b[0;34m\u001b[0m\u001b[0;34m\u001b[0m\u001b[0m\n",
      "\u001b[0;31mKeyError\u001b[0m: 'TARGET'"
     ]
    }
   ],
   "metadata": {}
  },
  {
   "cell_type": "markdown",
   "source": [
    "## Linear regression"
   ],
   "metadata": {}
  },
  {
   "cell_type": "markdown",
   "source": [
    "Linear regression assumes that we can model the target using a **linear** combination of the input features. This means that we can approximate the target using a **weighted sum** of the input features.\n",
    "\n",
    "We can write the model as $Y = \\beta_0 + \\beta_1 X_1 + \\beta_2 X_2 + ... + \\beta_n X_n + \\epsilon = \\beta_0 + \\sum_{i=1}^{n} \\beta_i X_i + \\epsilon$\n",
    "\n",
    "where :\n",
    "- $Y$ is our target value\n",
    "- $\\beta_i$ are the **parameters** of the model that we need to find\n",
    "- $X_i$ are the values of our input features\n",
    "- $\\epsilon$ is an noise term that we are unable to model.\n",
    "\n",
    "In the simplest case with only one input feature, this reduces to $Y = \\beta_0 + \\beta_1 X_1 + \\epsilon$ or $Y = ax + b$, the equation of a straight line with slope $a$ and intercept $b$. $b$ is often called a **bias**. For convenience we incorporate this bias in the weight matrix $\\beta$ and extend the input features $X_i$ with a constant feature with value one.\n",
    "\n",
    "All that linear regression algorithms do is fit a straight line (**trend line**) through the datapoints and once we know the equation of the line, we can make predictions for every possible feature combination. If we have two input features we instead try to fit a plane in 3D space.\n",
    "\n",
    "<div>\n",
    "    <div style=\"float:left\">\n",
    "        <img src=\"images/linear_regression.png\" width=\"550\" />\n",
    "        <br/>Source: https://en.wikipedia.org/wiki/Linear_regression  \n",
    "    </div>\n",
    "    <div style=\"float:left, margin-left:600px\">\n",
    "        <img src=\"images/3d.jpg\" width=\"600\"/>\n",
    "        <br/>Source:https://www.dataquest.io/blog/statistical-learning-for-predictive-modeling-r/\n",
    "    </div>\n",
    "</div>"
   ],
   "metadata": {}
  },
  {
   "cell_type": "markdown",
   "source": [
    "It is convenient to write this in matrix notation as $y = X\\beta + \\epsilon$\n",
    "\n",
    "where:\n",
    "\n",
    "- $y$ is the set of target values (n points)\n",
    "- $X$ is the set of features values (p values for each of the n points)\n",
    "- $\\beta$ are the parameters of the model, (p weights, one for each input feature)\n",
    "- $\\epsilon$ is the noise for each datapoint (n values)\n",
    "\n",
    "\n",
    "\n",
    "$\\begin{pmatrix}\n",
    "y_1\\\\\n",
    "\\vdots\\\\\n",
    "y_n\n",
    "\\end{pmatrix} = \n",
    "\\begin{pmatrix}\n",
    "1 & x_{11} & ... & x_{1p}\\\\\n",
    "1 & x_{21} & ... & x_{2p}\\\\\n",
    "\\vdots & \\vdots & \\ddots & \\vdots\\\\\n",
    "1 & x_{n1} & ... & x_{np}\n",
    "\\end{pmatrix} *\n",
    "\\begin{pmatrix}\n",
    "\\beta_0\\\\\n",
    "\\beta_1\\\\\n",
    "\\vdots\\\\\n",
    "\\beta_p\n",
    "\\end{pmatrix}\n",
    "+\n",
    "\\begin{pmatrix}\n",
    "\\epsilon_1\\\\\n",
    "\\epsilon_2\\\\\n",
    "\\vdots\\\\\n",
    "\\epsilon_n\n",
    "\\end{pmatrix}\n",
    "$"
   ],
   "metadata": {}
  },
  {
   "cell_type": "markdown",
   "source": [
    "## Training the model\n",
    "We have now defined our problem, our dataset and our model. The next step is to use the model to capture information about the training data. This process is called **training** the model. It usually involves an iterative process that changes the **parameters** of the model. This is an **optimization** problem: find the values $\\beta$ that make the line go through the data as best as possible.\n",
    "\n",
    "<div>\n",
    "    <img src=\"images/training.gif\" width=\"550\" />\n",
    "    <br/>Source: https://towardsdatascience.com/linear-regression-the-easier-way-6f941aa471ea\n",
    "</div>\n",
    "\n",
    "\n",
    "Each optimization problem needs a **loss function** to minimize. This loss function measures the **error** between our prediction and the actual target value. In this case we use **sum of squares** as our loss function: $\\sum_{i=1}^{n} (y - X\\beta)^2 = \\sum_{i=1}^{n} \\epsilon^2 $\n",
    "\n",
    "Since $\\epsilon$ is a vector, we can write $\\epsilon^2$ as $\\epsilon^\\intercal\\epsilon$ where $\\epsilon^\\intercal$ indicates the **transpose** of $\\epsilon$.\n",
    "\n",
    "$\\epsilon^\\intercal\\epsilon = \\begin{pmatrix} \\epsilon_1 & \\dots & \\epsilon_n \\end{pmatrix} * \\begin{pmatrix}\n",
    "\\epsilon_1\\\\\n",
    "\\vdots\\\\\n",
    "\\epsilon_n\n",
    "\\end{pmatrix} = \\epsilon_1^2 + \\dots + \\epsilon_n^2$\n",
    "\n",
    "Substituting $\\epsilon =  y - X\\beta$ this results in:\n",
    "\n",
    "$\\begin{align*}\n",
    "\\epsilon^\\intercal\\epsilon &= (y - X\\beta)^\\intercal(y - X\\beta)\\\\\n",
    "&= (y^\\intercal - X^\\intercal\\beta^\\intercal)(y-X\\beta) \\\\\n",
    "&= y^\\intercal y - \\beta^\\intercal X^\\intercal y - y^\\intercal X \\beta + \\beta^\\intercal X^\\intercal X\\beta \\\\\n",
    "&= y^\\intercal y - 2 \\beta^\\intercal X^\\intercal y + \\beta^\\intercal X^\\intercal X\\beta\n",
    "\\end{align*}$\n",
    "<br/>\n",
    "Here we made use of the fact that $\\beta^\\intercal X^\\intercal y = (\\beta^\\intercal X^\\intercal y)^\\intercal = y^\\intercal X \\beta$ as they both represent the same scalar value and the transpose of a scalar is the value itself."
   ],
   "metadata": {}
  },
  {
   "cell_type": "markdown",
   "source": [
    "To find the $\\beta$ that minimizes this, we take the **partial derivative** of this function to the elements of $\\beta$. Finding the minimum is then equivalent to putting the partial derivatives to zero.\n",
    "\n",
    "<font color='red'>Task: What is the meaning of the partial derivative in this context ?</font>"
   ],
   "metadata": {}
  },
  {
   "cell_type": "markdown",
   "source": [
    "..."
   ],
   "metadata": {}
  },
  {
   "cell_type": "markdown",
   "source": [
    "$\\frac{\\partial \\epsilon^\\intercal \\epsilon}{\\partial \\beta} = -2 X^\\intercal y + 2X^\\intercal X \\beta = 0$ (see https://medium.com/analytics-vidhya/multivariate-linear-regression-from-scratch-using-ols-ordinary-least-square-estimator-859646708cd6 for the derivation of this partial derivative).\n",
    "<br/>\n",
    "We now have an expression for $\\beta$ that gives us the smallest error:\n",
    "\n",
    "$ \\beta = (X^\\intercal X)^{-1} X^\\intercal y $"
   ],
   "metadata": {}
  },
  {
   "cell_type": "markdown",
   "source": [
    "<font color='red'>Task: use this formula to calculate the optimal $\\beta$ from the datapoints in X_train and Y_train.</font>"
   ],
   "metadata": {}
  },
  {
   "cell_type": "code",
   "execution_count": null,
   "source": [
    "..."
   ],
   "outputs": [],
   "metadata": {}
  },
  {
   "cell_type": "markdown",
   "source": [
    "<font color='red'>Task: What do each of these $\\beta$ values mean ? What does the sign mean ? What does the absolute value mean ? Do they make sense ?</font>"
   ],
   "metadata": {}
  },
  {
   "cell_type": "markdown",
   "source": [
    "..."
   ],
   "metadata": {}
  },
  {
   "cell_type": "markdown",
   "source": [
    "<font color='red'>Task: Implement a function *predict* that predicts the result for a new point.</font>"
   ],
   "metadata": {}
  },
  {
   "cell_type": "code",
   "execution_count": null,
   "source": [
    "..."
   ],
   "outputs": [],
   "metadata": {}
  },
  {
   "cell_type": "code",
   "execution_count": null,
   "source": [
    "from mpl_toolkits.mplot3d import Axes3D\n",
    "fig = plt.figure()\n",
    "ax = plt.axes(projection='3d')\n",
    "\n",
    "x = np.linspace(X_test[\"LSTAT\"].min(), X_test[\"LSTAT\"].max(), 30)\n",
    "y = np.linspace(X_test[\"RM\"].min(), X_test[\"RM\"].max(), 30)\n",
    "X, Y = np.meshgrid(x, y)\n",
    "\n",
    "\n",
    "predictions = np.array([predict([b, x,y]) for b,x,y in zip(np.ones(len(np.ravel(X))), np.ravel(X), np.ravel(Y))])\n",
    "predictions = predictions.reshape(X.shape)\n",
    "\n",
    "ax.contour3D(X, Y, predictions, 50)\n",
    "\n",
    "ax.set_xlabel('LSTAT')\n",
    "ax.set_ylabel('RM')\n",
    "ax.set_zlabel('Prediction')\n",
    "\n",
    "ax.scatter3D(X_test[\"LSTAT\"], X_test[\"RM\"], Y_test)"
   ],
   "outputs": [],
   "metadata": {}
  },
  {
   "cell_type": "markdown",
   "source": [
    "<font color='red'>Task: What would this plane look like if we forgot to add the bias ?</font>"
   ],
   "metadata": {}
  },
  {
   "cell_type": "markdown",
   "source": [
    "..."
   ],
   "metadata": {}
  },
  {
   "cell_type": "markdown",
   "source": [
    "## Measure the performance of the model\n",
    "We now have a trained model for our data and we can visually see that it fits the data well. How can we quantify this into a single number in order to compare different methods ? For this we will use the **R-squared** metric. This is a statistical measure between 0 and 1 which calculates how similar a regression line is to the data it is fitted to. If it's a 1, the model is able to predict all the variance in the data, if it's a 0, the model predicts none of the variance. $R^2$ is often called the **coefficient of determination**. It is the proportion of the variance in the dependent variable that is predictable from the independent variable(s)\n",
    "\n",
    "$R^2 = 1 - \\frac{SS_{res}}{RR_{tot}}$\n",
    "\n",
    "With \n",
    "- $SS_{res}$: The sum of squares of residuals. $\\sum_{i=1}^{n} (y - X\\beta)^2 = \\sum_{i=1}^{n} \\epsilon_i^2 $\n",
    "- $SS_{tot}$: The total sum of squares (proportional to the variance of the data): $\\sum_{i=1}^{n} (y - \\bar{y})^2$  where $\\bar{y}$ indicates the mean of the target."
   ],
   "metadata": {}
  },
  {
   "cell_type": "markdown",
   "source": [
    "<font color='red'>Task: Calculate the $R^2$ score for our model on the test set</font>"
   ],
   "metadata": {}
  },
  {
   "cell_type": "code",
   "execution_count": null,
   "source": [
    "..."
   ],
   "outputs": [],
   "metadata": {}
  },
  {
   "cell_type": "markdown",
   "source": [
    "![](images/linear.png)<br/> XKCD Linear Regression: https://xkcd.com/1725/"
   ],
   "metadata": {}
  },
  {
   "cell_type": "markdown",
   "source": [
    "$R^2$ is a relative **measure of fit**, it does not tell us anything about how close the predictions are to the real targets. To do this, we can instead use the **Root Mean Squared Error (RMSE)**. RMSE indicates how much our predication deviate from the target on average.\n",
    "\n",
    "$RMSE = \\frac{1}{n} \\sum_{i=1}^{n} (y - X\\beta)^2 = \\frac{1}{n} \\sum_{i=1}^{n} \\epsilon_i^2$"
   ],
   "metadata": {}
  },
  {
   "cell_type": "markdown",
   "source": [
    "<font color='red'>Task: Calculate the RMSE score for our model on the test set</font>"
   ],
   "metadata": {}
  },
  {
   "cell_type": "code",
   "execution_count": null,
   "source": [
    "..."
   ],
   "outputs": [],
   "metadata": {}
  },
  {
   "cell_type": "markdown",
   "source": [
    "## Linear regression using scikit-learn"
   ],
   "metadata": {}
  },
  {
   "cell_type": "markdown",
   "source": [
    "We now implemented a simple linear regression algorithm from scratch. When analyzing real data you should use existing implementations such as those from sklearn."
   ],
   "metadata": {}
  },
  {
   "cell_type": "code",
   "execution_count": null,
   "source": [
    "from sklearn.linear_model import LinearRegression\n",
    "from sklearn.metrics import mean_squared_error, r2_score\n",
    "\n",
    "lin_model = LinearRegression()\n",
    "lin_model.fit(X_train, Y_train)\n",
    "\n",
    "\n",
    "# model evaluation for training set\n",
    "y_train_predict = lin_model.predict(X_train)\n",
    "rmse = (np.sqrt(mean_squared_error(Y_train, y_train_predict)))\n",
    "r2 = r2_score(Y_train, y_train_predict)\n",
    "\n",
    "print(\"Model train performance\")\n",
    "print(\"--------------------------------------\")\n",
    "print('RMSE is {}'.format(rmse))\n",
    "print('R2 score is {}'.format(r2))\n",
    "print(\"\\n\")\n",
    "\n",
    "# model evaluation for testing set\n",
    "y_test_predict = lin_model.predict(X_test)\n",
    "rmse = (np.sqrt(mean_squared_error(Y_test, y_test_predict)))\n",
    "r2 = r2_score(Y_test, y_test_predict)\n",
    "\n",
    "print(\"Model test performance\")\n",
    "print(\"--------------------------------------\")\n",
    "print('RMSE is {}'.format(rmse))\n",
    "print('R2 score is {}'.format(r2))\n",
    "print(\"\\n\")\n",
    "\n",
    "print(\"Model parameters\")\n",
    "print(\"--------------------------------------\")\n",
    "print(lin_model.coef_)\n",
    "print(lin_model.intercept_)"
   ],
   "outputs": [],
   "metadata": {}
  },
  {
   "cell_type": "markdown",
   "source": [
    "<font color='red'>Task: Refactor your code into a class that follows the same interface as the Sklearn LinearRegression class</font>"
   ],
   "metadata": {}
  },
  {
   "cell_type": "code",
   "execution_count": null,
   "source": [
    "class MyLinearRegression:\n",
    "     ...\n",
    "    \n",
    "lin_model = MyLinearRegression()\n",
    "lin_model.fit(X_train, Y_train)\n",
    "\n",
    "# model evaluation for training set\n",
    "y_train_predict = lin_model.predict(X_train)\n",
    "rmse = (np.sqrt(mean_squared_error(Y_train, y_train_predict)))\n",
    "r2 = r2_score(Y_train, y_train_predict)\n",
    "\n",
    "print(\"Model train performance\")\n",
    "print(\"--------------------------------------\")\n",
    "print('RMSE is {}'.format(rmse))\n",
    "print('R2 score is {}'.format(r2))\n",
    "print(\"\\n\")\n",
    "\n",
    "# model evaluation for testing set\n",
    "y_test_predict = lin_model.predict(X_test)\n",
    "rmse = (np.sqrt(mean_squared_error(Y_test, y_test_predict)))\n",
    "r2 = r2_score(Y_test, y_test_predict)\n",
    "\n",
    "print(\"Model test performance\")\n",
    "print(\"--------------------------------------\")\n",
    "print('RMSE is {}'.format(rmse))\n",
    "print('R2 score is {}'.format(r2))\n",
    "print(\"\\n\")\n",
    "\n",
    "\n",
    "print(\"Model parameters\")\n",
    "print(\"--------------------------------------\")\n",
    "print(lin_model.coef_)\n",
    "print(lin_model.intercept_)"
   ],
   "outputs": [],
   "metadata": {}
  },
  {
   "cell_type": "markdown",
   "source": [
    "<font color='red'>Task: Train your model with different combinations of input features. What combination achieves the highest performance ?</font>"
   ],
   "metadata": {}
  },
  {
   "cell_type": "code",
   "execution_count": null,
   "source": [
    "..."
   ],
   "outputs": [],
   "metadata": {}
  },
  {
   "cell_type": "markdown",
   "source": [
    "## Remarks"
   ],
   "metadata": {}
  },
  {
   "cell_type": "markdown",
   "source": [
    "- Linear regression fits a linear function to your data. Not all data can be modeled by a linear relationship so in some cases it might be better to fit other functions such as exponentials or higher order polynomials. When designing the model we have to make assumptions on how our data can be modeled. These assumptions are called an **inductive bias**.\n",
    "- We now used a closed form solution to calculate the parameters of our model. This however relies on inverting and multiplying matrices. This will work fine for small matrices but is not efficient for large datasets. In practice, it is usually better to optimize these parameters with **gradient descent** (see one of the next sessions).\n",
    "- Because of the quadratic term in the loss function, linear regression is sensitive to **outliers** in the training set. A point at distance 10 from its prediction has 100 times the impact on the training error than a point at distance 1. This point can have a big impact on the shape of the best-fitting line. Depending on your data, it might be necessary to remove outliers prior to training.\n",
    "\n",
    "![](images/outlier.jpg)<br/> Outliers with linear regression: http://www.unige.ch/ses/sococ/cl///stat/illust/nonlin.html\n",
    "\n",
    "- We now used the raw measurements as input to our model even though the different features all have different scales. In principle the scale does not matter to the linear regression algorithm but it does make it hard to interpret the found coefficients. Does a large coefficient indicate an important value or is it just compensating for a very small input feature? It is often a good idea to **normalize** your data first. There are two common techniques to do this:\n",
    "    - **Z-scores**: Subtract the mean, divide by the standard deviation $\\frac{x - \\mu}{\\sigma}$ (also called **Standardization**)\n",
    "    - **Normalize**: $ \\frac{x - x_{min}}{x_{max} - x_{min}}$\n",
    "- For very large input numbers it might be interesting to use $\\sqrt{X}, log(x)$ or some other preprocessing of the values.\n",
    "- One of the first steps was to calculate the correlation between all our features. It is often a bad idea to train the model on two features that are highly correlated with each other. Since they contain the same information, they will not help the model. Surprisingly they may even harm the training of the model as they might result in numerical problems during training: https://towardsdatascience.com/why-exclude-highly-correlated-features-when-building-regression-model-34d77a90ea8e\n",
    "- In our dataset all features were represented with continuous values. Some features however can only assume discrete values (e.g. a feature that indicates which neighborhood a house is located). The most common technique to encode these types of features is to use a **one-hot** encoding.\n",
    "- A problem with the $R^2$ metric is that there is no penalty for adding addition input features. A model with more input features might result in a higher $R2$ value just by chance. To deal with this, you should use the **adjusted $R^2$**: https://en.wikipedia.org/wiki/Coefficient_of_determination#Adjusted_R2\n",
    "\n",
    "![](images/curve_fitting.png)<br/> XKCD: Curve fitting: https://xkcd.com/2048/\n"
   ],
   "metadata": {}
  }
 ],
 "metadata": {
  "kernelspec": {
   "name": "python3",
   "display_name": "Python 3.9.6 64-bit ('base': conda)"
  },
  "language_info": {
   "codemirror_mode": {
    "name": "ipython",
    "version": 3
   },
   "file_extension": ".py",
   "mimetype": "text/x-python",
   "name": "python",
   "nbconvert_exporter": "python",
   "pygments_lexer": "ipython3",
   "version": "3.9.6"
  },
  "interpreter": {
   "hash": "98b0a9b7b4eaaa670588a142fd0a9b87eaafe866f1db4228be72b4211d12040f"
  }
 },
 "nbformat": 4,
 "nbformat_minor": 4
}