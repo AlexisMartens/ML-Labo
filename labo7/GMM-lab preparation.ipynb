{
 "cells": [
  {
   "cell_type": "markdown",
   "id": "ca48e17c",
   "metadata": {},
   "source": [
    "# Preparation for the lab on Gaussian Mixture Models\n",
    "* If not done yet, first install the nilmtk library and the sckit-image library in your conda or pip environment.\n",
    "  * https://scikit-image.org/docs/0.14.x/install.html\n",
    "  * https://github.com/nilmtk/nilmtk/blob/master/docs/manual/user_guide/install_user.md\n",
    "* Download the provided dataset, and make sure it is available in a directory './low_freq'.\n",
    "* Create a .h5 index file on your machine of the dataset. This might take a while!"
   ]
  },
  {
   "cell_type": "code",
   "execution_count": 1,
   "id": "7f977182",
   "metadata": {},
   "outputs": [
    {
     "name": "stdout",
     "output_type": "stream",
     "text": [
      "Loading house 1... 1 2 3 4 5 6 7 8 9 10 11 12 13 14 15 16 17 18 19 20 \n",
      "Loading house 2... 1 2 3 4 5 6 7 8 9 10 11 \n",
      "Loading house 3... 1 2 3 4 5 6 7 8 9 10 11 12 13 14 15 16 17 18 19 20 21 22 \n",
      "Loading house 4... 1 2 3 4 5 6 7 8 9 10 11 12 13 14 15 16 17 18 19 20 \n",
      "Loading house 5... 1 2 3 4 5 6 7 8 9 10 11 12 13 14 15 16 17 18 19 20 21 22 23 24 25 26 \n",
      "Loading house 6... 1 2 3 4 5 6 7 8 9 10 11 12 13 14 15 16 17 \n",
      "Loaded metadata\n",
      "Done converting YAML metadata to HDF5!\n",
      "Done converting REDD to HDF5!\n"
     ]
    }
   ],
   "source": [
    "from nilmtk.dataset_converters import convert_redd\n",
    "convert_redd('./low_freq', './redd.h5')"
   ]
  }
 ],
 "metadata": {
  "interpreter": {
   "hash": "22f662952f5056be09b34fc6a89061f1979a226f15e905341570facf16a83d53"
  },
  "kernelspec": {
   "display_name": "Python 3.8.12 64-bit ('nilmtk-env': conda)",
   "name": "python3"
  },
  "language_info": {
   "codemirror_mode": {
    "name": "ipython",
    "version": 3
   },
   "file_extension": ".py",
   "mimetype": "text/x-python",
   "name": "python",
   "nbconvert_exporter": "python",
   "pygments_lexer": "ipython3",
   "version": "3.8.12"
  }
 },
 "nbformat": 4,
 "nbformat_minor": 5
}
